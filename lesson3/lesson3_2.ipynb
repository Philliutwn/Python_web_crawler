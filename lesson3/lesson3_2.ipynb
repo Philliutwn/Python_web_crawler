{
 "cells": [
  {
   "cell_type": "code",
   "execution_count": 1,
   "id": "55f0aeb5",
   "metadata": {},
   "outputs": [
    {
     "name": "stdout",
     "output_type": "stream",
     "text": [
      "11\n"
     ]
    }
   ],
   "source": [
    "def add_number(value1, value2):\n",
    "    return value1 + value2\n",
    "\n",
    "result = add_number(5,6)\n",
    "print(result)"
   ]
  },
  {
   "cell_type": "code",
   "execution_count": 2,
   "id": "930b1b7f",
   "metadata": {},
   "outputs": [
    {
     "name": "stdout",
     "output_type": "stream",
     "text": [
      "['1', '3', '5', 'a', 'b', 'c']\n"
     ]
    }
   ],
   "source": [
    "def mergeList(list1:list, list2:list) -> list:\n",
    "    result = []\n",
    "    result = list1 + list2\n",
    "    result.sort()\n",
    "    return(result)\n",
    "\n",
    "list1 = ['1', '3', '5' ]\n",
    "list2 = ['a', 'b', 'c']\n",
    "finalList = []\n",
    "\n",
    "finalList = mergeList(list1, list2)\n",
    "print(finalList)\n"
   ]
  },
  {
   "cell_type": "code",
   "execution_count": 9,
   "id": "74e2c8bf",
   "metadata": {},
   "outputs": [
    {
     "name": "stdout",
     "output_type": "stream",
     "text": [
      "['10', '30', '50', 'a', 'b', 'c']\n"
     ]
    }
   ],
   "source": [
    "list1 = ['30', '10', '50' ]\n",
    "list2 = ['a', 'b', 'c']\n",
    "\n",
    "list1.extend(list2)\n",
    "list1.sort() # list1 elements will be changed\n",
    "print(list1)"
   ]
  },
  {
   "cell_type": "code",
   "execution_count": 10,
   "id": "f59be2cb",
   "metadata": {},
   "outputs": [],
   "source": [
    "def mergeLists(list1:list[int], list2:list[int]) -> list[int]:\n",
    "    mergeResult = list1 + list2\n",
    "    mergeResult.sort()\n",
    "    return mergeResult"
   ]
  },
  {
   "cell_type": "code",
   "execution_count": 11,
   "id": "93efa1df",
   "metadata": {},
   "outputs": [
    {
     "name": "stdout",
     "output_type": "stream",
     "text": [
      "list1 =  [1, 21, 96]\n",
      "list2 =  [64, 95, 56, 77, 40]\n",
      "result =  [1, 21, 40, 56, 64, 77, 95, 96]\n"
     ]
    }
   ],
   "source": [
    "import random\n",
    "\n",
    "list1 = [random.randint(1,100) for _ in range (3)]\n",
    "list2 = [random.randint(1,100) for _ in range (5)]\n",
    "\n",
    "print('list1 = ', list1)\n",
    "print('list2 = ', list2)\n",
    "result = []\n",
    "result = mergeLists(list1, list2)\n",
    "print('result = ',result)\n"
   ]
  },
  {
   "cell_type": "code",
   "execution_count": null,
   "id": "8ce5db01",
   "metadata": {},
   "outputs": [],
   "source": []
  }
 ],
 "metadata": {
  "kernelspec": {
   "display_name": "web_crawler",
   "language": "python",
   "name": "python3"
  },
  "language_info": {
   "codemirror_mode": {
    "name": "ipython",
    "version": 3
   },
   "file_extension": ".py",
   "mimetype": "text/x-python",
   "name": "python",
   "nbconvert_exporter": "python",
   "pygments_lexer": "ipython3",
   "version": "3.11.13"
  }
 },
 "nbformat": 4,
 "nbformat_minor": 5
}
