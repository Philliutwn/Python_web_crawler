{
 "cells": [
  {
   "cell_type": "code",
   "execution_count": null,
   "id": "55f0aeb5",
   "metadata": {},
   "outputs": [
    {
     "name": "stdout",
     "output_type": "stream",
     "text": [
      "11\n"
     ]
    }
   ],
   "source": [
    "def add_number(value1, value2):\n",
    "    return value1 + value2\n",
    "\n",
    "result = add_number(5,6)\n",
    "print(result)"
   ]
  },
  {
   "cell_type": "code",
   "execution_count": 27,
   "id": "930b1b7f",
   "metadata": {},
   "outputs": [
    {
     "name": "stdout",
     "output_type": "stream",
     "text": [
      "['1', '3', '5', 'a', 'b', 'c']\n"
     ]
    }
   ],
   "source": [
    "def mergeList(list1:list, list2:list) -> list:\n",
    "    result = []\n",
    "    result = list1 + list2\n",
    "    result.sort()\n",
    "    return(result)\n",
    "\n",
    "list1 = ['1', '3', '5' ]\n",
    "list2 = ['a', 'b', 'c']\n",
    "finalList = []\n",
    "\n",
    "finalList = mergeList(list1, list2)\n",
    "print(finalList)\n"
   ]
  },
  {
   "cell_type": "code",
   "execution_count": 12,
   "id": "74e2c8bf",
   "metadata": {},
   "outputs": [
    {
     "name": "stdout",
     "output_type": "stream",
     "text": [
      "None\n"
     ]
    }
   ],
   "source": [
    "list1 = ['30', '10', '50' ]\n",
    "list2 = ['a', 'b', 'c']\n",
    "finalList = []\n",
    "finalList = list1.append(list2)\n",
    "print(finalList)"
   ]
  },
  {
   "cell_type": "code",
   "execution_count": 55,
   "id": "f59be2cb",
   "metadata": {},
   "outputs": [],
   "source": [
    "def mergeLists(list1:list[int], list2:list[int]) -> list[int]:\n",
    "    mergeResult = list1 + list2\n",
    "    mergeResult.sort()\n",
    "    return mergeResult"
   ]
  },
  {
   "cell_type": "code",
   "execution_count": 57,
   "id": "93efa1df",
   "metadata": {},
   "outputs": [
    {
     "name": "stdout",
     "output_type": "stream",
     "text": [
      "list1 =  [98, 20, 12]\n",
      "list2 =  [56, 90, 83, 65, 59]\n",
      "result =  [12, 20, 56, 59, 65, 83, 90, 98]\n"
     ]
    }
   ],
   "source": [
    "import random\n",
    "\n",
    "list1 = [random.randint(1,100) for _ in range (3)]\n",
    "list2 = [random.randint(1,100) for _ in range (5)]\n",
    "\n",
    "print('list1 = ', list1)\n",
    "print('list2 = ', list2)\n",
    "result = []\n",
    "result = mergeLists(list1, list2)\n",
    "print('result = ',result)\n"
   ]
  },
  {
   "cell_type": "code",
   "execution_count": null,
   "id": "8ce5db01",
   "metadata": {},
   "outputs": [],
   "source": []
  }
 ],
 "metadata": {
  "kernelspec": {
   "display_name": "web_crawler",
   "language": "python",
   "name": "python3"
  },
  "language_info": {
   "codemirror_mode": {
    "name": "ipython",
    "version": 3
   },
   "file_extension": ".py",
   "mimetype": "text/x-python",
   "name": "python",
   "nbconvert_exporter": "python",
   "pygments_lexer": "ipython3",
   "version": "3.11.13"
  }
 },
 "nbformat": 4,
 "nbformat_minor": 5
}
