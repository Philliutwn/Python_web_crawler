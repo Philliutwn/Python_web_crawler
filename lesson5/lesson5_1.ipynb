{
 "cells": [
  {
   "cell_type": "markdown",
   "id": "18b9cc0d",
   "metadata": {},
   "source": [
    "This example does not fit to Windows"
   ]
  },
  {
   "cell_type": "code",
   "execution_count": 1,
   "id": "90434e9b",
   "metadata": {},
   "outputs": [
    {
     "name": "stdout",
     "output_type": "stream",
     "text": [
      "['This domain is for use in illustrative examples in documents. You may use this\\n    domain in literature without prior coordination or asking for permission.', 'More information...']\n",
      "畫面已經擷取並儲存為 example.png\n"
     ]
    }
   ],
   "source": [
    "from playwright.async_api import async_playwright\n",
    "import asyncio\n",
    "import nest_asyncio\n",
    "\n",
    "nest_asyncio.apply()  # Apply nest_asyncio to allow nested event loops\n",
    "\n",
    "async def main():\n",
    "    async with async_playwright() as p:\n",
    "        #browser = await p.chromium.launch(headless=False) #False 可以看到畫面\n",
    "        browser = await p.firefox.launch(headless=False,slow_mo=1000)  # Use Firefox instead of Chromium\n",
    "        context = await browser.new_context() #開啟新的瀏覽器環境（session)\n",
    "        page = await context.new_page()\n",
    "        await page.goto('https://example.com')\n",
    "        \n",
    "        await page.wait_for_selector('p') #等待元素載入\n",
    "        content = await page.locator('p').all_text_contents()  #擷取文字內容\n",
    "        print(content)\n",
    "        \n",
    "        await page.screenshot(path = 'example.png')\n",
    "        print('畫面已經擷取並儲存為 example.png')\n",
    "        await browser.close()\n",
    "    \n",
    "asyncio.run(main())  # Run the main function using asyncio's event loop"
   ]
  }
 ],
 "metadata": {
  "kernelspec": {
   "display_name": "web_crawler",
   "language": "python",
   "name": "python3"
  },
  "language_info": {
   "codemirror_mode": {
    "name": "ipython",
    "version": 3
   },
   "file_extension": ".py",
   "mimetype": "text/x-python",
   "name": "python",
   "nbconvert_exporter": "python",
   "pygments_lexer": "ipython3",
   "version": "3.11.13"
  }
 },
 "nbformat": 4,
 "nbformat_minor": 5
}
