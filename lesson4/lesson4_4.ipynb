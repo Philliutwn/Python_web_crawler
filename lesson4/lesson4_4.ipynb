{
 "cells": [
  {
   "cell_type": "code",
   "execution_count": 2,
   "id": "560334c0",
   "metadata": {},
   "outputs": [
    {
     "name": "stdout",
     "output_type": "stream",
     "text": [
      "開始任務 1\n",
      "開始任務 2\n",
      "任務 1 完成\n",
      "任務 2 完成\n",
      "總耗時: 2.00 秒\n"
     ]
    }
   ],
   "source": [
    "#範例 4.3: 模擬非同步網路請求\n",
    "\n",
    "import asyncio\n",
    "import time\n",
    "import nest_asyncio \n",
    "nest_asyncio.apply()  # 允許在 Jupyter Notebook 中使用 asyncio\n",
    "\n",
    "async def task(id, delay):\n",
    "    print(f'開始任務 {id}')\n",
    "    await asyncio.sleep(delay)\n",
    "    print(f'任務 {id} 完成')\n",
    "\n",
    "async def main():\n",
    "    start = time.time()\n",
    "    # 使用 asyncio 來執行非同步任務\n",
    "    # 解釋為何還是執行花費3秒\n",
    "    # 因為這裡的任務是串行執行的，\n",
    "    # 每個任務都需要等待前一個任務完成\n",
    "    # 如果要實現真正的非同步，應該使用 asyncio.gather\n",
    "    # 或 asyncio.create_task 來並行執行任務\n",
    "    # 這樣可以讓多個任務同時進行，節省時間\n",
    "    tasks = [task(1,1), task(2,2)]\n",
    "    await asyncio.gather(*tasks)\n",
    "    print(f'總耗時: {time.time() - start:.2f} 秒')\n",
    "\n",
    "asyncio.run(main())\n"
   ]
  },
  {
   "cell_type": "code",
   "execution_count": 5,
   "id": "a1aacb4b",
   "metadata": {},
   "outputs": [
    {
     "name": "stdout",
     "output_type": "stream",
     "text": [
      "0.7.0\n"
     ]
    }
   ],
   "source": [
    "import crawl4ai\n",
    "print(crawl4ai.__version__.__version__)  # 印出 crawl4ai 的版本資訊"
   ]
  }
 ],
 "metadata": {
  "kernelspec": {
   "display_name": "web_crawler",
   "language": "python",
   "name": "python3"
  },
  "language_info": {
   "codemirror_mode": {
    "name": "ipython",
    "version": 3
   },
   "file_extension": ".py",
   "mimetype": "text/x-python",
   "name": "python",
   "nbconvert_exporter": "python",
   "pygments_lexer": "ipython3",
   "version": "3.11.13"
  }
 },
 "nbformat": 4,
 "nbformat_minor": 5
}
