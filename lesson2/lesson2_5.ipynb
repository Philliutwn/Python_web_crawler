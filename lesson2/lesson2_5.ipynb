{
 "cells": [
  {
   "cell_type": "code",
   "execution_count": 4,
   "id": "3b2e83b8",
   "metadata": {},
   "outputs": [
    {
     "name": "stdout",
     "output_type": "stream",
     "text": [
      "The sum of numbers from 1 to 1000 is: 500500\n"
     ]
    }
   ],
   "source": [
    "total = 0\n",
    "for i in range (1,1001):\n",
    "    total += i\n",
    "print(\"The sum of numbers from 1 to 1000 is:\", total)\n"
   ]
  },
  {
   "cell_type": "code",
   "execution_count": null,
   "id": "3ae055a9",
   "metadata": {},
   "outputs": [
    {
     "name": "stdout",
     "output_type": "stream",
     "text": [
      "The sum of numbers in the list is: 18\n"
     ]
    }
   ],
   "source": [
    "a = list()\n",
    "total = 0\n",
    "\n",
    "a = [5, 6, 7]\n",
    "for i in a:\n",
    "    total += i\n",
    "print(\"The sum of numbers in the list is:\", total)\n"
   ]
  },
  {
   "cell_type": "code",
   "execution_count": 7,
   "id": "4afa211d",
   "metadata": {},
   "outputs": [
    {
     "name": "stdout",
     "output_type": "stream",
     "text": [
      "11\n"
     ]
    }
   ],
   "source": [
    "i = 0\n",
    "while (True):\n",
    "    i += 1\n",
    "    if i > 10:\n",
    "        break\n",
    "print(i)"
   ]
  },
  {
   "cell_type": "code",
   "execution_count": 9,
   "id": "e21c7dc7",
   "metadata": {},
   "outputs": [
    {
     "name": "stdout",
     "output_type": "stream",
     "text": [
      "You played 1 times.\n",
      "You played 2 times.\n",
      "You played 3 times.\n",
      "You played 4 times.\n",
      "You played 5 times.\n",
      "You played 6 times.\n",
      "You played 7 times.\n",
      "You played 8 times.\n",
      "You played 9 times.\n",
      "You played 10 times.\n",
      "You played 11 times.\n",
      "You played 12 times.\n",
      "You played 13 times.\n",
      "You played 14 times.\n",
      "You played 15 times.\n",
      "You played 16 times.\n"
     ]
    }
   ],
   "source": [
    "i = 0\n",
    "while (True):\n",
    "    is_play = input('Do you want to continue? (y/n):')\n",
    "    if is_play.lower() == 'n':\n",
    "        break\n",
    "    i += 1\n",
    "    print(\"You played\", i, \"times.\")"
   ]
  }
 ],
 "metadata": {
  "kernelspec": {
   "display_name": "web_crawler",
   "language": "python",
   "name": "python3"
  },
  "language_info": {
   "codemirror_mode": {
    "name": "ipython",
    "version": 3
   },
   "file_extension": ".py",
   "mimetype": "text/x-python",
   "name": "python",
   "nbconvert_exporter": "python",
   "pygments_lexer": "ipython3",
   "version": "3.11.13"
  }
 },
 "nbformat": 4,
 "nbformat_minor": 5
}
